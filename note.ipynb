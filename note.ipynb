{
 "cells": [
  {
   "cell_type": "code",
   "execution_count": 2,
   "metadata": {
    "collapsed": true
   },
   "outputs": [
    {
     "name": "stdout",
     "output_type": "stream",
     "text": [
      "2020-11-21 19:31:06,951 INFO sqlalchemy.engine.base.Engine SELECT CAST('test plain returns' AS VARCHAR(60)) AS anon_1\n",
      "2020-11-21 19:31:06,953 INFO sqlalchemy.engine.base.Engine ()\n",
      "2020-11-21 19:31:06,958 INFO sqlalchemy.engine.base.Engine SELECT CAST('test unicode returns' AS VARCHAR(60)) AS anon_1\n",
      "2020-11-21 19:31:06,960 INFO sqlalchemy.engine.base.Engine ()\n",
      "2020-11-21 19:31:06,966 INFO sqlalchemy.engine.base.Engine PRAGMA main.table_info(\"user\")\n",
      "2020-11-21 19:31:06,969 INFO sqlalchemy.engine.base.Engine ()\n"
     ]
    }
   ],
   "source": [
    "# ORM：Object-Relational Mapping，把关系数据库的表结构映射到对象上\n",
    "\n",
    "# # 导入:\n",
    "from sqlalchemy import Column, String, create_engine,Integer\n",
    "from sqlalchemy.orm import sessionmaker\n",
    "from sqlalchemy.ext.declarative import declarative_base\n",
    "\n",
    "# 创建对象的基类:\n",
    "Base = declarative_base()\n",
    "\n",
    "# 定义User对象:\n",
    "class User(Base):\n",
    "    # 表的名字:\n",
    "    __tablename__ = 'user'\n",
    "    #  表的结构:\n",
    "    ## 字段类型要声明长度\n",
    "    id = Column(Integer, primary_key=True)\n",
    "    name = Column(String(20))\n",
    "    fullname = Column(String(50))\n",
    "    nickname = Column(String(50))\n",
    "    def __repr__(self):\n",
    "        return \"<User(name='%s', id='%s')>\" % (self.name, self.id)\n",
    "# 初始化数据库连接:\n",
    "engine = create_engine(r'sqlite:///text.sqlite',echo=True)\n",
    "# 创建DBSession类型,使用时要实例化\n",
    "DBSession = sessionmaker(bind=engine)\n",
    "# 创建数据库表\n",
    "Base.metadata.create_all(engine)\n",
    "#若修改了表结构，可能需要手动去修改schema，\n",
    "\n"
   ]
  },
  {
   "cell_type": "markdown",
   "source": [
    "- 插入数据"
   ],
   "metadata": {
    "collapsed": false
   }
  },
  {
   "cell_type": "code",
   "execution_count": 3,
   "outputs": [
    {
     "name": "stdout",
     "output_type": "stream",
     "text": [
      "2020-11-21 19:31:13,554 INFO sqlalchemy.engine.base.Engine BEGIN (implicit)\n",
      "2020-11-21 19:31:13,559 INFO sqlalchemy.engine.base.Engine INSERT INTO user (name, fullname, nickname) VALUES (?, ?, ?)\n",
      "2020-11-21 19:31:13,560 INFO sqlalchemy.engine.base.Engine ('lin', 'hongji', 'werido')\n",
      "2020-11-21 19:31:13,571 INFO sqlalchemy.engine.base.Engine COMMIT\n"
     ]
    }
   ],
   "source": [
    "#1 先实例化对象\n",
    "add_=User(name='lin',nickname='werido',fullname='hongji')\n",
    "#2 插入数据库,此时未写入数据库,这里记得把session实例化\n",
    "session=DBSession()\n",
    "session.add(add_)\n",
    "#3 写入数据库\n",
    "session.commit()"
   ],
   "metadata": {
    "collapsed": false,
    "pycharm": {
     "name": "#%%\n"
    }
   }
  },
  {
   "cell_type": "markdown",
   "source": [
    "- 插入多条，补充说明\n"
   ],
   "metadata": {
    "collapsed": false
   }
  },
  {
   "cell_type": "code",
   "execution_count": 9,
   "outputs": [
    {
     "name": "stdout",
     "output_type": "stream",
     "text": [
      "2020-11-21 19:36:17,426 INFO sqlalchemy.engine.base.Engine INSERT INTO user (name, fullname, nickname) VALUES (?, ?, ?)\n",
      "2020-11-21 19:36:17,432 INFO sqlalchemy.engine.base.Engine ('lin1', 'hongji', 'werido')\n",
      "2020-11-21 19:36:17,435 INFO sqlalchemy.engine.base.Engine INSERT INTO user (name, fullname, nickname) VALUES (?, ?, ?)\n",
      "2020-11-21 19:36:17,447 INFO sqlalchemy.engine.base.Engine ('lin2', 'hongji', 'werido')\n",
      "2020-11-21 19:36:17,455 INFO sqlalchemy.engine.base.Engine INSERT INTO user (name, fullname, nickname) VALUES (?, ?, ?)\n",
      "2020-11-21 19:36:17,461 INFO sqlalchemy.engine.base.Engine ('lin3', 'hongji', 'werido')\n",
      "2020-11-21 19:36:17,472 INFO sqlalchemy.engine.base.Engine SELECT user.id AS user_id, user.name AS user_name, user.fullname AS user_fullname, user.nickname AS user_nickname \n",
      "FROM user \n",
      "WHERE user.name = ?\n",
      " LIMIT ? OFFSET ?\n",
      "2020-11-21 19:36:17,478 INFO sqlalchemy.engine.base.Engine ('lin', 1, 0)\n",
      "2020-11-21 19:36:17,482 INFO sqlalchemy.engine.base.Engine SELECT user.id AS user_id, user.name AS user_name, user.fullname AS user_fullname, user.nickname AS user_nickname \n",
      "FROM user \n",
      "WHERE user.name = ?\n",
      "2020-11-21 19:36:17,484 INFO sqlalchemy.engine.base.Engine ('lin1',)\n",
      "<User(name='lin', id='1')> [<User(name='lin1', id='4')>, <User(name='lin1', id='6')>, <User(name='lin1', id='8')>, <User(name='lin1', id='10')>]\n"
     ]
    },
    {
     "data": {
      "text/plain": "IdentitySet([])"
     },
     "execution_count": 9,
     "metadata": {},
     "output_type": "execute_result"
    }
   ],
   "source": [
    "session.add_all([\n",
    "  User(name='lin1',nickname='werido',fullname='hongji'),\n",
    "  User(name='lin2',nickname='werido',fullname='hongji'),\n",
    "  User(name='lin3',nickname='werido',fullname='hongji')\n",
    "])\n",
    "##  添加后未写入数据库，但是可以查询得到,commit才会写入数据库\n",
    "lin=session.query(User).filter_by(name='lin').first()\n",
    "lin_all=session.query(User).filter_by(name='lin1').all()\n",
    "print(lin,lin_all)\n",
    "\n",
    "## 展示事物中存在的未commit的记录\n",
    "session.new"
   ],
   "metadata": {
    "collapsed": false,
    "pycharm": {
     "name": "#%%\n"
    }
   }
  },
  {
   "cell_type": "markdown",
   "source": [
    "- 修改数据"
   ],
   "metadata": {
    "collapsed": false
   }
  },
  {
   "cell_type": "code",
   "execution_count": 12,
   "outputs": [
    {
     "name": "stdout",
     "output_type": "stream",
     "text": [
      "2020-11-21 22:26:05,681 INFO sqlalchemy.engine.base.Engine COMMIT\n"
     ]
    }
   ],
   "source": [
    "lin.name='lin_mend'\n",
    "session.dirty\n",
    "# 已经修改过，会记录在session.dirty 里面提交后会清除记录\n",
    "session.commit()"
   ],
   "metadata": {
    "collapsed": false,
    "pycharm": {
     "name": "#%%\n"
    }
   }
  }
 ],
 "metadata": {
  "kernelspec": {
   "display_name": "Python 3",
   "language": "python",
   "name": "python3"
  },
  "language_info": {
   "codemirror_mode": {
    "name": "ipython",
    "version": 2
   },
   "file_extension": ".py",
   "mimetype": "text/x-python",
   "name": "python",
   "nbconvert_exporter": "python",
   "pygments_lexer": "ipython2",
   "version": "2.7.6"
  }
 },
 "nbformat": 4,
 "nbformat_minor": 0
}