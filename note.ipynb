{
 "cells": [
  {
   "cell_type": "code",
   "execution_count": 3,
   "metadata": {
    "collapsed": true
   },
   "outputs": [
    {
     "name": "stdout",
     "output_type": "stream",
     "text": [
      "2020-11-21 23:24:55,668 INFO sqlalchemy.engine.base.Engine SELECT CAST('test plain returns' AS VARCHAR(60)) AS anon_1\n",
      "2020-11-21 23:24:55,669 INFO sqlalchemy.engine.base.Engine ()\n",
      "2020-11-21 23:24:55,673 INFO sqlalchemy.engine.base.Engine SELECT CAST('test unicode returns' AS VARCHAR(60)) AS anon_1\n",
      "2020-11-21 23:24:55,676 INFO sqlalchemy.engine.base.Engine ()\n",
      "2020-11-21 23:24:55,679 INFO sqlalchemy.engine.base.Engine PRAGMA main.table_info(\"user\")\n",
      "2020-11-21 23:24:55,681 INFO sqlalchemy.engine.base.Engine ()\n"
     ]
    }
   ],
   "source": [
    "# ORM：Object-Relational Mapping，把关系数据库的表结构映射到对象上\n",
    "\n",
    "# # 导入:\n",
    "from sqlalchemy import Column, String, create_engine,Integer\n",
    "from sqlalchemy.orm import sessionmaker\n",
    "from sqlalchemy.ext.declarative import declarative_base\n",
    "\n",
    "# 创建对象的基类:\n",
    "Base = declarative_base()\n",
    "\n",
    "# 定义User对象:\n",
    "class User(Base):\n",
    "    # 表的名字:\n",
    "    __tablename__ = 'user'\n",
    "    #  表的结构:\n",
    "    ## 字段类型要声明长度\n",
    "    id = Column(Integer, primary_key=True)\n",
    "    name = Column(String(20))\n",
    "    fullname = Column(String(50))\n",
    "    nickname = Column(String(50))\n",
    "    def __repr__(self):\n",
    "        return \"<User(name='%s', id='%s')>\" % (self.name, self.id)\n",
    "# 初始化数据库连接:\n",
    "engine = create_engine(r'sqlite:///text.sqlite',echo=True)\n",
    "# 创建DBSession类型,使用时要实例化\n",
    "DBSession = sessionmaker(bind=engine)\n",
    "# 创建数据库表\n",
    "Base.metadata.create_all(engine)\n",
    "#若修改了表结构，可能需要手动去修改schema，\n",
    "\n"
   ]
  },
  {
   "cell_type": "markdown",
   "source": [
    "- 插入数据"
   ],
   "metadata": {
    "collapsed": false
   }
  },
  {
   "cell_type": "code",
   "execution_count": 4,
   "outputs": [
    {
     "name": "stdout",
     "output_type": "stream",
     "text": [
      "2020-11-21 23:24:55,702 INFO sqlalchemy.engine.base.Engine BEGIN (implicit)\n",
      "2020-11-21 23:24:55,705 INFO sqlalchemy.engine.base.Engine INSERT INTO user (name, fullname, nickname) VALUES (?, ?, ?)\n",
      "2020-11-21 23:24:55,707 INFO sqlalchemy.engine.base.Engine ('lin', 'hongji', 'werido')\n",
      "2020-11-21 23:24:55,714 INFO sqlalchemy.engine.base.Engine COMMIT\n"
     ]
    }
   ],
   "source": [
    "#1 先实例化对象\n",
    "add_=User(name='lin',nickname='werido',fullname='hongji')\n",
    "#2 插入数据库,此时未写入数据库,这里记得把session实例化\n",
    "session=DBSession()\n",
    "session.add(add_)\n",
    "#3 写入数据库\n",
    "session.commit()"
   ],
   "metadata": {
    "collapsed": false,
    "pycharm": {
     "name": "#%%\n"
    }
   }
  },
  {
   "cell_type": "markdown",
   "source": [
    "- 插入多条，补充说明\n"
   ],
   "metadata": {
    "collapsed": false
   }
  },
  {
   "cell_type": "code",
   "execution_count": 5,
   "outputs": [
    {
     "name": "stdout",
     "output_type": "stream",
     "text": [
      "2020-11-21 23:24:55,879 INFO sqlalchemy.engine.base.Engine BEGIN (implicit)\n",
      "2020-11-21 23:24:55,882 INFO sqlalchemy.engine.base.Engine INSERT INTO user (name, fullname, nickname) VALUES (?, ?, ?)\n",
      "2020-11-21 23:24:55,885 INFO sqlalchemy.engine.base.Engine ('lin1', 'hongji', 'werido')\n",
      "2020-11-21 23:24:55,898 INFO sqlalchemy.engine.base.Engine INSERT INTO user (name, fullname, nickname) VALUES (?, ?, ?)\n",
      "2020-11-21 23:24:55,906 INFO sqlalchemy.engine.base.Engine ('lin2', 'hongji', 'werido')\n",
      "2020-11-21 23:24:55,910 INFO sqlalchemy.engine.base.Engine INSERT INTO user (name, fullname, nickname) VALUES (?, ?, ?)\n",
      "2020-11-21 23:24:55,918 INFO sqlalchemy.engine.base.Engine ('lin3', 'hongji', 'werido')\n",
      "2020-11-21 23:24:55,928 INFO sqlalchemy.engine.base.Engine SELECT user.id AS user_id, user.name AS user_name, user.fullname AS user_fullname, user.nickname AS user_nickname \n",
      "FROM user \n",
      "WHERE user.name = ?\n",
      " LIMIT ? OFFSET ?\n",
      "2020-11-21 23:24:55,943 INFO sqlalchemy.engine.base.Engine ('lin', 1, 0)\n",
      "2020-11-21 23:24:55,947 INFO sqlalchemy.engine.base.Engine SELECT user.id AS user_id, user.name AS user_name, user.fullname AS user_fullname, user.nickname AS user_nickname \n",
      "FROM user \n",
      "WHERE user.name = ?\n",
      "2020-11-21 23:24:55,952 INFO sqlalchemy.engine.base.Engine ('lin1',)\n",
      "<User(name='lin', id='2')> [<User(name='lin1', id='4')>, <User(name='lin1', id='6')>, <User(name='lin1', id='8')>, <User(name='lin1', id='10')>, <User(name='lin1', id='14')>]\n"
     ]
    },
    {
     "data": {
      "text/plain": "IdentitySet([])"
     },
     "execution_count": 5,
     "metadata": {},
     "output_type": "execute_result"
    }
   ],
   "source": [
    "session.add_all([\n",
    "  User(name='lin1',nickname='werido',fullname='hongji'),\n",
    "  User(name='lin2',nickname='werido',fullname='hongji'),\n",
    "  User(name='lin3',nickname='werido',fullname='hongji')\n",
    "])\n",
    "##  添加后未写入数据库，但是可以查询得到,commit才会写入数据库\n",
    "lin=session.query(User).filter_by(name='lin').first()\n",
    "lin_all=session.query(User).filter_by(name='lin1').all()\n",
    "print(lin,lin_all)\n",
    "\n",
    "## 展示事物中存在的未commit的记录\n",
    "session.new"
   ],
   "metadata": {
    "collapsed": false,
    "pycharm": {
     "name": "#%%\n"
    }
   }
  },
  {
   "cell_type": "markdown",
   "source": [
    "- 修改数据"
   ],
   "metadata": {
    "collapsed": false
   }
  },
  {
   "cell_type": "code",
   "execution_count": 6,
   "outputs": [
    {
     "name": "stdout",
     "output_type": "stream",
     "text": [
      "2020-11-21 23:24:56,022 INFO sqlalchemy.engine.base.Engine UPDATE user SET name=? WHERE user.id = ?\n",
      "2020-11-21 23:24:56,026 INFO sqlalchemy.engine.base.Engine ('lin_mend', 2)\n",
      "2020-11-21 23:24:56,032 INFO sqlalchemy.engine.base.Engine COMMIT\n"
     ]
    }
   ],
   "source": [
    "lin.name='lin_mend'\n",
    "session.dirty\n",
    "# 已经修改过，会记录在session.dirty 里面提交后会清除记录\n",
    "session.commit()"
   ],
   "metadata": {
    "collapsed": false,
    "pycharm": {
     "name": "#%%\n"
    }
   }
  },
  {
   "cell_type": "markdown",
   "source": [
    "- session.rollback():回滚到上次/commit 状态"
   ],
   "metadata": {
    "collapsed": false
   }
  },
  {
   "cell_type": "code",
   "execution_count": 17,
   "outputs": [
    {
     "name": "stdout",
     "output_type": "stream",
     "text": [
      "2020-11-21 23:50:23,075 INFO sqlalchemy.engine.base.Engine SELECT user.id AS user_id, user.name AS user_name, user.fullname AS user_fullname, user.nickname AS user_nickname \n",
      "FROM user ORDER BY user.id\n",
      "2020-11-21 23:50:23,080 INFO sqlalchemy.engine.base.Engine ()\n",
      "lin_mend\n",
      "lin_mend\n",
      "lin\n",
      "lin1\n",
      "lin2\n",
      "lin1\n",
      "lin2\n",
      "lin1\n",
      "lin2\n",
      "lin1\n",
      "lin2\n",
      "lin3\n",
      "lin\n",
      "lin1\n",
      "lin2\n",
      "lin3\n",
      "2020-11-21 23:50:23,088 INFO sqlalchemy.engine.base.Engine SELECT user.name AS user_name, user.fullname AS user_fullname \n",
      "FROM user\n",
      "2020-11-21 23:50:23,098 INFO sqlalchemy.engine.base.Engine ()\n",
      "lin_mend hongji\n",
      "lin_mend hongji\n",
      "lin hongji\n",
      "lin1 hongji\n",
      "lin2 hongji\n",
      "lin1 hongji\n",
      "lin2 hongji\n",
      "lin1 hongji\n",
      "lin2 hongji\n",
      "lin1 hongji\n",
      "lin2 hongji\n",
      "lin3 hongji\n",
      "lin hongji\n",
      "lin1 hongji\n",
      "lin2 hongji\n",
      "lin3 hongji\n",
      "2020-11-21 23:50:23,103 INFO sqlalchemy.engine.base.Engine SELECT user.id AS user_id, user.name AS user_name, user.fullname AS user_fullname, user.nickname AS user_nickname \n",
      "FROM user\n",
      "2020-11-21 23:50:23,104 INFO sqlalchemy.engine.base.Engine ()\n",
      "<User(name='lin_mend', id='1')> lin_mend\n",
      "<User(name='lin_mend', id='2')> lin_mend\n",
      "<User(name='lin', id='3')> lin\n",
      "<User(name='lin1', id='4')> lin1\n",
      "<User(name='lin2', id='5')> lin2\n",
      "<User(name='lin1', id='6')> lin1\n",
      "<User(name='lin2', id='7')> lin2\n",
      "<User(name='lin1', id='8')> lin1\n",
      "<User(name='lin2', id='9')> lin2\n",
      "<User(name='lin1', id='10')> lin1\n",
      "<User(name='lin2', id='11')> lin2\n",
      "<User(name='lin3', id='12')> lin3\n",
      "<User(name='lin', id='13')> lin\n",
      "<User(name='lin1', id='14')> lin1\n",
      "<User(name='lin2', id='15')> lin2\n",
      "<User(name='lin3', id='16')> lin3\n",
      "2020-11-21 23:50:23,109 INFO sqlalchemy.engine.base.Engine SELECT user.name AS lin_mend \n",
      "FROM user\n",
      "2020-11-21 23:50:23,111 INFO sqlalchemy.engine.base.Engine ()\n",
      "lin_mend\n",
      "lin_mend\n",
      "lin\n",
      "lin1\n",
      "lin2\n",
      "lin1\n",
      "lin2\n",
      "lin1\n",
      "lin2\n",
      "lin1\n",
      "lin2\n",
      "lin3\n",
      "lin\n",
      "lin1\n",
      "lin2\n",
      "lin3\n",
      "2020-11-21 23:50:23,114 INFO sqlalchemy.engine.base.Engine SELECT user.id AS user_id, user.name AS user_name, user.fullname AS user_fullname, user.nickname AS user_nickname \n",
      "FROM user \n",
      "WHERE user.name = ? AND user.fullname = ?\n",
      "2020-11-21 23:50:23,115 INFO sqlalchemy.engine.base.Engine ('lin_mend', 'hongji')\n",
      "<User(name='lin_mend', id='1')>\n",
      "<User(name='lin_mend', id='2')>\n"
     ]
    }
   ],
   "source": [
    "### 查询\n",
    "for instance in session.query(User).order_by(User.id):\n",
    "    print(instance.name)\n",
    "\n",
    "## 参数个数要对应\n",
    "for name, fullname in session.query(User.name, User.fullname):\n",
    "    print(name,fullname)\n",
    "\n",
    "for row in session.query(User, User.name).all():\n",
    "     print(row.User,row.name)\n",
    "\n",
    "## select name as lin_mend\n",
    "for row in session.query(User.name.label('lin_mend')).all():\n",
    "     print(row.lin_mend)\n",
    "\n",
    "## 多条件查询\n",
    "for user in session.query(User).filter(User.name=='lin_mend').filter(User.fullname=='hongji'):\n",
    " print(user)\n",
    "\n"
   ],
   "metadata": {
    "collapsed": false,
    "pycharm": {
     "name": "#%%\n"
    }
   }
  },
  {
   "cell_type": "code",
   "execution_count": null,
   "outputs": [],
   "source": [
    "## 使用原生SQL语句\n"
   ],
   "metadata": {
    "collapsed": false,
    "pycharm": {
     "name": "#%%\n"
    }
   }
  }
 ],
 "metadata": {
  "kernelspec": {
   "display_name": "Python 3",
   "language": "python",
   "name": "python3"
  },
  "language_info": {
   "codemirror_mode": {
    "name": "ipython",
    "version": 2
   },
   "file_extension": ".py",
   "mimetype": "text/x-python",
   "name": "python",
   "nbconvert_exporter": "python",
   "pygments_lexer": "ipython2",
   "version": "2.7.6"
  }
 },
 "nbformat": 4,
 "nbformat_minor": 0
}